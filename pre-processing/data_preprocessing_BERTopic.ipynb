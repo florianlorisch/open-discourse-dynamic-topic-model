{
 "cells": [
  {
   "cell_type": "code",
   "execution_count": null,
   "metadata": {},
   "outputs": [],
   "source": [
    "import os\n",
    "import re\n",
    "import pandas as pd\n",
    "from datetime import datetime\n",
    "import pickle"
   ]
  },
  {
   "cell_type": "markdown",
   "metadata": {
    "pycharm": {
     "name": "#%% md\n"
    }
   },
   "source": [
    "### Settings paths"
   ]
  },
  {
   "cell_type": "code",
   "execution_count": null,
   "metadata": {
    "pycharm": {
     "name": "#%%\n"
    }
   },
   "outputs": [],
   "source": [
    "os.chdir(\"..\")\n",
    "data_path = os.path.join(os.path.abspath(os.curdir), 'corpus','prepared','corpus.csv')\n",
    "result_path = os.path.join(os.path.abspath(os.curdir),'corpus','preprocessed')"
   ]
  },
  {
   "cell_type": "markdown",
   "metadata": {
    "pycharm": {
     "name": "#%% md\n"
    }
   },
   "source": [
    "### Loading prepared corpus\n"
   ]
  },
  {
   "cell_type": "code",
   "execution_count": null,
   "metadata": {
    "pycharm": {
     "name": "#%%\n"
    }
   },
   "outputs": [],
   "source": [
    "df = pd.read_csv(data_path)\n",
    "df.drop(columns=df.columns[0],axis=1,inplace=True)\n",
    "df.sort_values(by='id', ascending=True, inplace=True)\n",
    "df.reset_index(drop=True,inplace=True)"
   ]
  },
  {
   "cell_type": "markdown",
   "metadata": {},
   "source": [
    "### Data pre-processing"
   ]
  },
  {
   "cell_type": "code",
   "execution_count": null,
   "metadata": {
    "pycharm": {
     "name": "#%%\n"
    }
   },
   "outputs": [],
   "source": [
    "def pre_processing (dataframe):\n",
    "    '''\n",
    "\n",
    "    :param dataframe: dataframe prepared during the first preprocessing step\n",
    "    :return: dataframe with a column that contains lowercased plenary speeches without punctuation and numeric values\n",
    "    '''\n",
    "    speechContent_column = dataframe['speechContent']\n",
    "\n",
    "    # convert to lowercase\n",
    "    speechContent_column = speechContent_column.apply(lambda x: ' '.join([w.lower() for w in x.split()]))\n",
    "\n",
    "    # keep words incl. Umlaute\n",
    "    speechContent_column = speechContent_column.apply(lambda x: ' '.join(re.sub(\"[^a-zA-Z\\x7f-\\xff]+\", \" \", x).split()))\n",
    "\n",
    "    # remove numbers\n",
    "    speechContent_column = speechContent_column.apply(lambda x: ' '.join([w for w in x.split() if not w.isnumeric()]))\n",
    "\n",
    "    return speechContent_column\n",
    "\n",
    "df['speechContent_cleaned'] = pre_processing(dataframe=df)\n",
    "\n",
    "df = df.loc[(df.speechContent_cleaned != \"\"), :]\n",
    "time_steps = df.electoralTerm.to_list()\n",
    "speeches = df.speechContent_cleaned.to_list()"
   ]
  },
  {
   "cell_type": "markdown",
   "metadata": {
    "pycharm": {
     "name": "#%% md\n"
    }
   },
   "source": [
    "### Saving pre-processed files to disk"
   ]
  },
  {
   "cell_type": "code",
   "execution_count": null,
   "metadata": {
    "pycharm": {
     "name": "#%%\n"
    }
   },
   "outputs": [],
   "source": [
    "file_name = os.path.join(result_path,'electoralTerms', 'BERTopic_time_steps.pkl')\n",
    "with open(file_name, 'wb') as handle:\n",
    "    pickle.dump(time_steps, handle)\n",
    "\n",
    "file_name = os.path.join(result_path,'corpus', 'BERTopic_corpus_preprocessed.pkl')\n",
    "with open(file_name, 'wb') as handle:\n",
    "    pickle.dump(speeches, handle)\n"
   ]
  }
 ],
 "metadata": {
  "kernelspec": {
   "display_name": "Python 3 (ipykernel)",
   "language": "python",
   "name": "python3"
  },
  "language_info": {
   "codemirror_mode": {
    "name": "ipython",
    "version": 3
   },
   "file_extension": ".py",
   "mimetype": "text/x-python",
   "name": "python",
   "nbconvert_exporter": "python",
   "pygments_lexer": "ipython3",
   "version": "3.9.5"
  }
 },
 "nbformat": 4,
 "nbformat_minor": 1
}