{
 "cells": [
  {
   "cell_type": "code",
   "execution_count": null,
   "metadata": {},
   "outputs": [],
   "source": [
    "import pandas as pd\n",
    "import matplotlib.pyplot as plt\n",
    "import os\n"
   ]
  },
  {
   "cell_type": "markdown",
   "metadata": {},
   "source": [
    "### Setting paths"
   ]
  },
  {
   "cell_type": "code",
   "execution_count": null,
   "metadata": {
    "pycharm": {
     "name": "#%%\n"
    }
   },
   "outputs": [],
   "source": [
    "os.chdir(\"..\")\n",
    "data_path = os.path.join(os.path.abspath(os.curdir), 'corpus','raw','speeches.feather')\n",
    "result_path = os.path.join(os.path.abspath(os.curdir),'corpus','prepared')"
   ]
  },
  {
   "cell_type": "markdown",
   "metadata": {},
   "source": [
    "### Loading raw data"
   ]
  },
  {
   "cell_type": "code",
   "execution_count": null,
   "metadata": {
    "pycharm": {
     "name": "#%%\n"
    }
   },
   "outputs": [],
   "source": [
    "raw_data = pd.read_feather(data_path)\n"
   ]
  },
  {
   "cell_type": "markdown",
   "metadata": {},
   "source": [
    "### Data understanding"
   ]
  },
  {
   "cell_type": "code",
   "execution_count": null,
   "metadata": {
    "pycharm": {
     "name": "#%%\n"
    }
   },
   "outputs": [],
   "source": [
    "def get_info_on_dataframe(df):\n",
    "    '''\n",
    "\n",
    "    :param df: dataframe containing the raw plenary speeches\n",
    "    :return: summary statistics on the dataset\n",
    "    '''\n",
    "    print(\"shape of the dataframe: \", df.shape)\n",
    "    print(\"datatypes and nan values per column: \", df.info())\n",
    "    print(\"descriptive summary of object columns: \", df.describe(include=object))\n",
    "\n",
    "get_info_on_dataframe(raw_data)"
   ]
  },
  {
   "cell_type": "code",
   "execution_count": null,
   "metadata": {
    "pycharm": {
     "name": "#%%\n"
    }
   },
   "outputs": [],
   "source": [
    "def get_info_on_columns(df):\n",
    "    '''\n",
    "\n",
    "    :param df: dataframe containing the raw plenary speeches\n",
    "    :return: Provide basic information on the length (number of characters) of the raw held in parliament and the\n",
    "    distribution of raw over factions and positions\n",
    "    '''\n",
    "    df['len'] = df['speechContent'].apply(len)\n",
    "    print('Statistics on the length of raw: ',df['len'].describe())\n",
    "    print(\"rows per faction: \", df['factionId'].value_counts())\n",
    "    print(\"rows per position: \", df['positionShort'].value_counts())\n",
    "get_info_on_columns(raw_data)"
   ]
  },
  {
   "cell_type": "code",
   "execution_count": null,
   "metadata": {
    "pycharm": {
     "name": "#%%\n"
    }
   },
   "outputs": [],
   "source": [
    "def create_year_column(df):\n",
    "    '''\n",
    "\n",
    "    :param df: dataframe containing the raw plenary speeches\n",
    "    :return: add a 'year' column to dataframe containing the year a speech was held in (instead of the full date)\n",
    "    '''\n",
    "    df['date'] = pd.to_datetime(df['date'])\n",
    "    df['year'] = df['date'].dt.year\n",
    "    return df\n",
    "\n",
    "create_year_column(raw_data)"
   ]
  },
  {
   "cell_type": "code",
   "execution_count": null,
   "metadata": {
    "pycharm": {
     "name": "#%%\n"
    }
   },
   "outputs": [],
   "source": [
    "def plot_speeches_over_years(df):\n",
    "    '''\n",
    "\n",
    "    :param df: dataframe containing the raw plenary speeches\n",
    "    :return: plot showing the number of speeches held every year\n",
    "    '''\n",
    "    df['year'].hist(bins=50, figsize=(20, 6))\n",
    "    plt.xticks(fontsize=18)\n",
    "    plt.yticks(fontsize=18)\n",
    "    plt.show()\n",
    "\n",
    "plot_speeches_over_years(raw_data)"
   ]
  },
  {
   "cell_type": "code",
   "execution_count": null,
   "metadata": {
    "pycharm": {
     "name": "#%%\n"
    }
   },
   "outputs": [],
   "source": [
    "def plot_length_of_speeches(df):\n",
    "    '''\n",
    "\n",
    "    :param df: dataframe containing the raw plenary speeches\n",
    "    :return: plot showing the length of the speeches (characters) per position\n",
    "    '''\n",
    "    df['len'].hist(bins=50, figsize=(20,6))\n",
    "    plt.xticks(fontsize=18)\n",
    "    plt.yticks(fontsize=18)\n",
    "    plt.show()\n",
    "\n",
    "plot_length_of_speeches(raw_data)"
   ]
  },
  {
   "cell_type": "markdown",
   "metadata": {
    "pycharm": {
     "name": "#%% md\n"
    }
   },
   "source": [
    "### Reducing the size of the dataset"
   ]
  },
  {
   "cell_type": "code",
   "execution_count": null,
   "metadata": {
    "pycharm": {
     "name": "#%%\n"
    }
   },
   "outputs": [],
   "source": [
    "def drop_irrelevant_speeches(df):\n",
    "    '''\n",
    "\n",
    "    :param df: dataframe containing the raw plenary speeches\n",
    "    :return: dataframe with plenary speeches from known Members of the Bundestag with more than 30 contributions\n",
    "    '''\n",
    "    start_len = len(df.index)\n",
    "    print('rows before dropping values: ', start_len)\n",
    "    start_char = df['len'].sum()\n",
    "    print('total characters in speechContent before dropping values: ', start_char)\n",
    "    df.drop(df.loc[(df['positionShort'] != 'Member of Parliament')].index, inplace=True)\n",
    "    print('rows after dropping all but MEP: ', len(df.index))\n",
    "    print('percentage of rows kept after dropping all but MEP: ',  (100/start_len)*len(df.index))\n",
    "    print('percentage of characters in speechContent kept after dropping all but MEP: ', (100/start_char)*df['len'].sum())\n",
    "    df.drop(df.loc[(df['politicianId'] == -1)].index, inplace=True)\n",
    "    print('rows after dropping speeches of unknown speakers: ', len(df.index))\n",
    "    print('percentage of raw kept after dropping unknown speakers: ',  (100/start_len)*len(df.index))\n",
    "    print('percentage of characters in speechContent kept after dropping unknown speaker: ', (100/start_char)*df['len'].sum())\n",
    "    consolidated_speeches = df[df.groupby('politicianId')['politicianId'].transform('size') > 30]\n",
    "    print('rows after dropping speeches of rare speakers: ', len(consolidated_speeches.index))\n",
    "    print('percentage of raw kept after dropping rare speakers: ',  (100/start_len)*len(consolidated_speeches.index))\n",
    "    print('percentage of characters in speechContent kept after dropping rare speaker: ', (100/start_char)*consolidated_speeches['len'].sum())\n",
    "    return consolidated_speeches\n",
    "\n",
    "\n",
    "consolidated_data=drop_irrelevant_speeches(raw_data)"
   ]
  },
  {
   "cell_type": "code",
   "execution_count": null,
   "metadata": {
    "pycharm": {
     "name": "#%%\n"
    }
   },
   "outputs": [],
   "source": [
    "def merge_fragmented_speeches(df):\n",
    "    '''\n",
    "\n",
    "    :param df: dataframe with plenary speeches from known Members of the Bundestag with more than 30 contributions\n",
    "    :return: dataframe with plenary speeches, where speeches that are wrongly saved as speech fragments in consecutive rows are joined\n",
    "    '''\n",
    "    df.sort_values(by='id')\n",
    "    return df.groupby(['session','electoralTerm','politicianId','factionId','documentUrl','date' , 'year']).agg({'id':'first', 'firstName':'first','lastName':'first','positionShort':'first','positionLong':'first','speechContent':''.join,'len':'sum'}).reset_index()\n",
    "\n",
    "corpus = merge_fragmented_speeches(consolidated_data)"
   ]
  },
  {
   "cell_type": "code",
   "execution_count": null,
   "metadata": {
    "pycharm": {
     "name": "#%%\n"
    }
   },
   "outputs": [],
   "source": [
    "def drop_after_merge(df):\n",
    "    '''\n",
    "\n",
    "    :param df: dataframe with plenary speeches from known Members of the Bundestag with more than 30 contributions and joined speeches\n",
    "    :return: dataframe that only contains plenary speeches from Known Members of the Bundestag iwth more than 100 characters\n",
    "    '''\n",
    "    df.drop(df.loc[df['len'] < 100].index, inplace=True)\n",
    "    print('rows after dropping speeches without or with little content: ', len(df.index))\n",
    "    df.drop(['session', 'firstName', 'lastName', 'documentUrl', 'positionLong', 'date'], axis='columns', inplace=True)\n",
    "    return df\n",
    "\n",
    "corpus = drop_after_merge(corpus)"
   ]
  },
  {
   "cell_type": "markdown",
   "metadata": {
    "pycharm": {
     "name": "#%% md\n"
    }
   },
   "source": [
    "### Saving the corpus to disk"
   ]
  },
  {
   "cell_type": "code",
   "execution_count": null,
   "metadata": {
    "pycharm": {
     "name": "#%%\n"
    }
   },
   "outputs": [],
   "source": [
    "def save_csv_to_disk(df):\n",
    "    '''\n",
    "\n",
    "    :param df:\n",
    "    :return: saves the corpus created above and three smaller corpi for testing purposes to disk,\n",
    "    '''\n",
    "    corpus.to_csv(os.path.join(result_path, \"corpus.csv\"))\n",
    "    test_corpus_3_terms = (corpus.loc[corpus['electoralTerm'].isin([19,18,17])])\n",
    "    test_corpus_3_terms.to_csv(os.path.join(result_path, \"test_corpus_3_terms.csv\"))\n",
    "    test_corpus_1000 = corpus.sample(n=1000, random_state=1)\n",
    "    test_corpus_1000.to_csv(os.path.join(result_path, \"test_corpus_1000.csv\"))\n",
    "    test_corpus_10000 = corpus.sample(n=10000, random_state=1)\n",
    "    test_corpus_10000.to_csv(os.path.join(result_path,\"test_corpus_10000.csv\"))\n",
    "\n",
    "\n",
    "save_csv_to_disk(corpus)"
   ]
  }
 ],
 "metadata": {
  "kernelspec": {
   "display_name": "Python 3 (ipykernel)",
   "language": "python",
   "name": "python3"
  },
  "language_info": {
   "codemirror_mode": {
    "name": "ipython",
    "version": 3
   },
   "file_extension": ".py",
   "mimetype": "text/x-python",
   "name": "python",
   "nbconvert_exporter": "python",
   "pygments_lexer": "ipython3",
   "version": "3.9.5"
  }
 },
 "nbformat": 4,
 "nbformat_minor": 1
}