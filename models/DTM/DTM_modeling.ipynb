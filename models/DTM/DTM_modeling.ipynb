{
 "cells": [
  {
   "cell_type": "code",
   "execution_count": null,
   "metadata": {
    "collapsed": true
   },
   "outputs": [],
   "source": [
    "import os\n",
    "import gensim\n",
    "from gensim import corpora\n",
    "from gensim.models.wrappers.dtmmodel import DtmModel\n",
    "from gensim.corpora import Dictionary\n",
    "from gensim.corpora import textcorpus\n",
    "\n",
    "import pandas as pd\n",
    "import pickle\n",
    "\n",
    "import logging\n",
    "\n",
    "logger = logging.getLogger()\n",
    "logger.setLevel(logging.DEBUG)\n",
    "logging.debug(\"test\")"
   ]
  },
  {
   "cell_type": "markdown",
   "source": [
    "### Setting paths"
   ],
   "metadata": {
    "collapsed": false,
    "pycharm": {
     "name": "#%% md\n"
    }
   }
  },
  {
   "cell_type": "code",
   "execution_count": null,
   "outputs": [],
   "source": [
    "os.chdir(\"../..\")\n",
    "data_path = os.path.join(os.path.abspath(os.curdir), 'corpus', 'preprocessed')\n",
    "result_path = os.path.join(os.path.abspath(os.curdir),'models','DTM')\n",
    "dtm_path = \"/Users/florianlorisch/Downloads/dtm-master/dtm/dtm\""
   ],
   "metadata": {
    "collapsed": false,
    "pycharm": {
     "name": "#%%\n"
    }
   }
  },
  {
   "cell_type": "markdown",
   "source": [
    "### Loading preprocessed data"
   ],
   "metadata": {
    "collapsed": false,
    "pycharm": {
     "name": "#%% md\n"
    }
   }
  },
  {
   "cell_type": "code",
   "execution_count": null,
   "outputs": [],
   "source": [
    "corpus = pd.read_pickle(os.path.join(data_path, 'corpus', 'corpus_preprocessed.pkl'))\n",
    "dictionary = corpora.Dictionary.load_from_text(os.path.join(data_path, 'dictionary', 'dictionary_preprocessed.txt'))\n",
    "texts = pd.read_pickle(os.path.join(data_path, 'lemmas', 'lemmatized_preprocessed.pkl'))\n",
    "electoralTerms_info = pd.read_pickle(os.path.join(data_path, \"electoralTerms\", \"electoralTerms_count.pkl\"))"
   ],
   "metadata": {
    "collapsed": false,
    "pycharm": {
     "name": "#%%\n"
    }
   }
  },
  {
   "cell_type": "markdown",
   "source": [
    "### Creating list with number of speeches per time step as input for DTM"
   ],
   "metadata": {
    "collapsed": false,
    "pycharm": {
     "name": "#%% md\n"
    }
   }
  },
  {
   "cell_type": "code",
   "execution_count": null,
   "outputs": [],
   "source": [
    "def get_time_slices(data):\n",
    "    '''\n",
    "\n",
    "    :param data: Dataframe with speeches/documents per electoral term\n",
    "    :return:list with number of speeches per term as input for dtm\n",
    "    '''\n",
    "    time_frame = data.to_frame()\n",
    "    time_frame.sort_index(ascending=True, inplace=True)\n",
    "    time_slices = time_frame['electoralTerm'].tolist()\n",
    "    return time_slices\n",
    "\n",
    "time_slices = get_time_slices(data=electoralTerms_info)"
   ],
   "metadata": {
    "collapsed": false,
    "pycharm": {
     "name": "#%%\n"
    }
   }
  },
  {
   "cell_type": "markdown",
   "source": [
    "### Instantiating and training the dtm Model"
   ],
   "metadata": {
    "collapsed": false,
    "pycharm": {
     "name": "#%% md\n"
    }
   }
  },
  {
   "cell_type": "code",
   "execution_count": null,
   "outputs": [],
   "source": [
    "def train_dtm(dtm_path, corpus, id2word, time_slices, alpha, num_topics, top_chain_var, rng_seed, initialize_lda, name):\n",
    "    '''\n",
    "\n",
    "    :param output_dir: Path to store trained model\n",
    "    :return:\n",
    "    '''\n",
    "\n",
    "    dtm = DtmModel(dtm_path=dtm_path, corpus=corpus, id2word=id2word, time_slices=time_slices, alpha=alpha,\n",
    "                num_topics=num_topics,top_chain_var=top_chain_var, rng_seed=rng_seed, initialize_lda=initialize_lda)\n",
    "    dtm.save(os.path.join(result_path, 'model_results', name))\n",
    "\n",
    "\n",
    "train_dtm(dtm_path=dtm_path, corpus=corpus, id2word=dictionary, time_slices=time_slices, alpha=0.45,\n",
    "                num_topics=31,top_chain_var= 0.005, rng_seed=41, initialize_lda=True, name='dtm.model')"
   ],
   "metadata": {
    "collapsed": false,
    "pycharm": {
     "name": "#%%\n"
    }
   }
  }
 ],
 "metadata": {
  "kernelspec": {
   "display_name": "Python 3",
   "language": "python",
   "name": "python3"
  },
  "language_info": {
   "codemirror_mode": {
    "name": "ipython",
    "version": 2
   },
   "file_extension": ".py",
   "mimetype": "text/x-python",
   "name": "python",
   "nbconvert_exporter": "python",
   "pygments_lexer": "ipython2",
   "version": "2.7.6"
  }
 },
 "nbformat": 4,
 "nbformat_minor": 0
}