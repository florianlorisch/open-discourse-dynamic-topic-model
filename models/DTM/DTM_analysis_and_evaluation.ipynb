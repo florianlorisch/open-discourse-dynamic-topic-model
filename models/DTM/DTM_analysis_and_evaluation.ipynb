{
 "cells": [
  {
   "cell_type": "code",
   "execution_count": null,
   "metadata": {
    "collapsed": true
   },
   "outputs": [],
   "source": [
    "import os\n",
    "import gensim\n",
    "from gensim import corpora, utils\n",
    "from gensim.models.wrappers.dtmmodel import DtmModel\n",
    "from gensim.models.coherencemodel import CoherenceModel\n",
    "from gensim.corpora import Dictionary\n",
    "from gensim.corpora import textcorpus\n",
    "\n",
    "import numpy as np\n",
    "import pandas as pd\n",
    "import pickle\n",
    "from scipy.stats import linregress\n",
    "\n",
    "import seaborn as sns\n",
    "import colorcet as cc\n",
    "import matplotlib.pyplot as plt\n",
    "\n",
    "# from DTM import Dtm\n",
    "import logging\n",
    "\n",
    "logger = logging.getLogger()\n",
    "logger.setLevel(logging.DEBUG)\n",
    "logging.debug(\"test\")"
   ]
  },
  {
   "cell_type": "markdown",
   "source": [
    "### Setting paths"
   ],
   "metadata": {
    "collapsed": false,
    "pycharm": {
     "name": "#%% md\n"
    }
   }
  },
  {
   "cell_type": "code",
   "execution_count": null,
   "outputs": [],
   "source": [
    "os.chdir(\"../..\")\n",
    "data_path = os.path.join(os.path.abspath(os.curdir), 'corpus', 'preprocessed')\n",
    "result_path = os.path.join(os.path.abspath(os.curdir),'models','DTM')\n",
    "dtm_path = \"/Users/florianlorisch/Downloads/dtm-master/dtm/dtm\""
   ],
   "metadata": {
    "collapsed": false,
    "pycharm": {
     "name": "#%%\n"
    }
   }
  },
  {
   "cell_type": "markdown",
   "source": [
    "### Loading pre-processed data"
   ],
   "metadata": {
    "collapsed": false,
    "pycharm": {
     "name": "#%% md\n"
    }
   }
  },
  {
   "cell_type": "code",
   "execution_count": null,
   "outputs": [],
   "source": [
    "corpus = pd.read_pickle(os.path.join(data_path, 'corpus', 'corpus_preprocessed.pkl'))\n",
    "dictionary = corpora.Dictionary.load_from_text(os.path.join(data_path, 'dictionary', 'dictionary_preprocessed.txt'))\n",
    "texts = pd.read_pickle(os.path.join(data_path, 'lemmas', 'lemmatized_preprocessed.pkl'))\n"
   ],
   "metadata": {
    "collapsed": false,
    "pycharm": {
     "name": "#%%\n"
    }
   }
  },
  {
   "cell_type": "markdown",
   "source": [
    "### Loading trained DTM model"
   ],
   "metadata": {
    "collapsed": false,
    "pycharm": {
     "name": "#%% md\n"
    }
   }
  },
  {
   "cell_type": "code",
   "execution_count": null,
   "outputs": [],
   "source": [
    "model_path = os.path.join(result_path, 'model_results', 'dtm.model')\n",
    "dtm = DtmModel.load(model_path)"
   ],
   "metadata": {
    "collapsed": false,
    "pycharm": {
     "name": "#%%x\n"
    }
   }
  },
  {
   "cell_type": "markdown",
   "source": [
    "### Calculating topic coherence and topic diversity"
   ],
   "metadata": {
    "collapsed": false,
    "pycharm": {
     "name": "#%% md\n"
    }
   }
  },
  {
   "cell_type": "code",
   "execution_count": null,
   "outputs": [],
   "source": [
    "def coherence_dtm_over_time_steps(model,time_steps):\n",
    "    '''\n",
    "\n",
    "    :param model: trained DTM model\n",
    "    :param time_steps: the time steps that are considered to calculate an overarching topic coherence score\n",
    "    :return: topic coherence score averaged over time steps\n",
    "    '''\n",
    "    coherence_sum = 0\n",
    "    for time in time_steps:\n",
    "        topics = model.dtm_coherence(time=time)\n",
    "        coherence_model_dtm = CoherenceModel(topics=topics, texts=texts, dictionary=dictionary, coherence='c_v')\n",
    "        coherence_dtm = coherence_model_dtm.get_coherence()\n",
    "        print ('DTM coherence (c_v) at time: ',time ,coherence_dtm)\n",
    "        coherence_sum = coherence_sum + coherence_dtm\n",
    "    print(coherence_sum)\n",
    "    return coherence_sum/len(time_steps)\n",
    "\n",
    "time_steps = [0,1,2,3,4,5,6,7,8,9,10,11,12,13,14,15,16,17,18]\n",
    "print('overall coherence: ',coherence_dtm_over_time_steps(model=dtm,time_steps=time_steps))"
   ],
   "metadata": {
    "collapsed": false,
    "pycharm": {
     "name": "#%%\n"
    }
   }
  },
  {
   "cell_type": "code",
   "execution_count": 1,
   "outputs": [
    {
     "ename": "NameError",
     "evalue": "name 'dtm' is not defined",
     "output_type": "error",
     "traceback": [
      "\u001B[0;31m---------------------------------------------------------------------------\u001B[0m",
      "\u001B[0;31mNameError\u001B[0m                                 Traceback (most recent call last)",
      "\u001B[0;32m/var/folders/g5/29g8j6zx64d3rvg_x9_c77_h0000gn/T/ipykernel_62332/3598354342.py\u001B[0m in \u001B[0;36m<module>\u001B[0;34m\u001B[0m\n\u001B[1;32m     14\u001B[0m     \u001B[0;32mreturn\u001B[0m \u001B[0mtopics_as_list\u001B[0m\u001B[0;34m\u001B[0m\u001B[0;34m\u001B[0m\u001B[0m\n\u001B[1;32m     15\u001B[0m \u001B[0mtopn\u001B[0m\u001B[0;34m=\u001B[0m\u001B[0;36m25\u001B[0m\u001B[0;34m\u001B[0m\u001B[0;34m\u001B[0m\u001B[0m\n\u001B[0;32m---> 16\u001B[0;31m \u001B[0mmodel\u001B[0m \u001B[0;34m=\u001B[0m \u001B[0mdtm\u001B[0m\u001B[0;34m\u001B[0m\u001B[0;34m\u001B[0m\u001B[0m\n\u001B[0m\u001B[1;32m     17\u001B[0m \u001B[0mtopicids\u001B[0m \u001B[0;34m=\u001B[0m \u001B[0;34m[\u001B[0m\u001B[0;36m0\u001B[0m\u001B[0;34m,\u001B[0m\u001B[0;36m1\u001B[0m\u001B[0;34m,\u001B[0m\u001B[0;36m2\u001B[0m\u001B[0;34m,\u001B[0m\u001B[0;36m3\u001B[0m\u001B[0;34m,\u001B[0m\u001B[0;36m4\u001B[0m\u001B[0;34m,\u001B[0m\u001B[0;36m5\u001B[0m\u001B[0;34m,\u001B[0m\u001B[0;36m6\u001B[0m\u001B[0;34m,\u001B[0m\u001B[0;36m7\u001B[0m\u001B[0;34m,\u001B[0m\u001B[0;36m8\u001B[0m\u001B[0;34m,\u001B[0m\u001B[0;36m9\u001B[0m\u001B[0;34m,\u001B[0m\u001B[0;36m10\u001B[0m\u001B[0;34m,\u001B[0m\u001B[0;36m11\u001B[0m\u001B[0;34m,\u001B[0m\u001B[0;36m12\u001B[0m\u001B[0;34m,\u001B[0m\u001B[0;36m13\u001B[0m\u001B[0;34m,\u001B[0m\u001B[0;36m14\u001B[0m\u001B[0;34m,\u001B[0m\u001B[0;36m15\u001B[0m\u001B[0;34m,\u001B[0m\u001B[0;36m16\u001B[0m\u001B[0;34m,\u001B[0m\u001B[0;36m17\u001B[0m\u001B[0;34m,\u001B[0m\u001B[0;36m18\u001B[0m\u001B[0;34m,\u001B[0m\u001B[0;36m19\u001B[0m\u001B[0;34m,\u001B[0m\u001B[0;36m20\u001B[0m\u001B[0;34m,\u001B[0m\u001B[0;36m21\u001B[0m\u001B[0;34m,\u001B[0m\u001B[0;36m22\u001B[0m\u001B[0;34m,\u001B[0m\u001B[0;36m23\u001B[0m\u001B[0;34m,\u001B[0m\u001B[0;36m24\u001B[0m\u001B[0;34m,\u001B[0m\u001B[0;36m25\u001B[0m\u001B[0;34m,\u001B[0m\u001B[0;36m26\u001B[0m\u001B[0;34m,\u001B[0m\u001B[0;36m27\u001B[0m\u001B[0;34m,\u001B[0m\u001B[0;36m28\u001B[0m\u001B[0;34m,\u001B[0m\u001B[0;36m29\u001B[0m\u001B[0;34m,\u001B[0m\u001B[0;36m30\u001B[0m\u001B[0;34m]\u001B[0m\u001B[0;34m\u001B[0m\u001B[0;34m\u001B[0m\u001B[0m\n\u001B[1;32m     18\u001B[0m \u001B[0;34m\u001B[0m\u001B[0m\n",
      "\u001B[0;31mNameError\u001B[0m: name 'dtm' is not defined"
     ]
    }
   ],
   "source": [
    "def get_list_of_topics(topicids,time,model,topn):\n",
    "    '''\n",
    "\n",
    "    :param topicids: id of topic that should be added to list\n",
    "    :param model: the model the topics are to be taken from\n",
    "    :return: a list of list containing topn words for selected topics at the selected time step. Performed for each time\n",
    "    as input to calculate the topic diversity\n",
    "    '''\n",
    "    topics_as_list = []\n",
    "    for topicid in topicids:\n",
    "        keywords = []\n",
    "        for _,keyword in model.show_topic(topicid=topicid,time=time,topn=topn):\n",
    "            keywords.append(keyword)\n",
    "        topics_as_list.append(keywords)\n",
    "    return topics_as_list\n",
    "topn=25\n",
    "model = dtm\n",
    "topicids = [0,1,2,3,4,5,6,7,8,9,10,11,12,13,14,15,16,17,18,19,20,21,22,23,24,25,26,27,28,29,30]\n",
    "\n",
    "topic_list = get_list_of_topics(topicids=topicids,time=18,model=model,topn=topn)"
   ],
   "metadata": {
    "collapsed": false,
    "pycharm": {
     "name": "#%%\n"
    }
   }
  },
  {
   "cell_type": "code",
   "execution_count": null,
   "outputs": [],
   "source": [
    "def get_topic_diversity(topics,topn):\n",
    "    '''\n",
    "\n",
    "    :param topics: list of list of topics as strings\n",
    "    :param topn: number of top words used to compute topic diversity\n",
    "    :return: topic diversity score as proportion of unique words at a given time step.\n",
    "    Performed for each time step.\n",
    "    '''\n",
    "    if topn > len(topics[0]):\n",
    "        raise Exception('not enough words for topk ' + str(topn))\n",
    "    else:\n",
    "        unique_words = set()\n",
    "        for topic in topics:\n",
    "            unique_words = unique_words.union(set(topic[:topn]))\n",
    "        td = len(unique_words) / (topn * len(topics))\n",
    "        return td\n",
    "\n",
    "print('diversity topk25: ', get_topic_diversity(topics=topic_list, topn=25))"
   ],
   "metadata": {
    "collapsed": false,
    "pycharm": {
     "name": "#%%\n"
    }
   }
  },
  {
   "cell_type": "markdown",
   "source": [
    "### Further analysis of the model results"
   ],
   "metadata": {
    "collapsed": false,
    "pycharm": {
     "name": "#%% md\n"
    }
   }
  },
  {
   "cell_type": "code",
   "execution_count": null,
   "outputs": [],
   "source": [
    "def topic_to_dataframe(model, time_steps, topicid, topn):\n",
    "    '''\n",
    "\n",
    "    :param model: the model the topics are to be taken from\n",
    "    :param time_steps: time steps considered\n",
    "    :param topicid: id of topic that should be added to list\n",
    "    :param topn: number of top terms considered\n",
    "    :return: returns a dataframe with top n Terms for the selected topic and time steps. Define\n",
    "    time steps before running\n",
    "    '''\n",
    "    topic_data = {}\n",
    "\n",
    "    for time_step in time_steps:\n",
    "        keywords = []\n",
    "        for _, keyword in model.show_topic(topicid=topicid, time=time_step, topn=topn):\n",
    "            keywords.append(keyword)\n",
    "        topic_data[time_step] = keywords\n",
    "    return pd.DataFrame(topic_data)\n",
    "\n",
    "time_steps = [0, 4, 12, 18]\n",
    "topic_5_df = topic_to_dataframe(model=dtm, time_steps=time_steps, topicid=5, topn=10)"
   ],
   "metadata": {
    "collapsed": false,
    "pycharm": {
     "name": "#%%\n"
    }
   }
  },
  {
   "cell_type": "code",
   "execution_count": null,
   "outputs": [],
   "source": [
    "def topic_with_p_to_dataframe(model, time_steps, topicid, topn):\n",
    "    '''\n",
    "\n",
    "    :param model: the model the topics are to be taken from\n",
    "    :param time_steps: time steps considered\n",
    "    :param topicid: id of topic that should be added to list\n",
    "    :param topn: number of top terms considered\n",
    "    :return:  a dataframe with top n terms and their probabilities for the selected topic and time steps. Define\n",
    "    time steps before running\n",
    "    '''\n",
    "    topic_data = {}\n",
    "\n",
    "    for time_step in time_steps:\n",
    "        keywords = []\n",
    "        for probability, keyword in model.show_topic(topicid=topicid, time=time_step, topn=topn):\n",
    "            keywords.append((probability, keyword))\n",
    "        topic_data[time_step] = keywords\n",
    "    return pd.DataFrame(topic_data)\n",
    "\n",
    "time_steps = [0, 4, 12, 18]\n",
    "topic_5_df_p = topic_with_p_to_dataframe(model=dtm, time_steps=time_steps, topicid=5, topn=10)"
   ],
   "metadata": {
    "collapsed": false,
    "pycharm": {
     "name": "#%%\n"
    }
   }
  },
  {
   "cell_type": "code",
   "execution_count": null,
   "outputs": [],
   "source": [
    "def summary(model, time_steps, topicids, topn):\n",
    "    '''\n",
    "\n",
    "    :param model: the model the topics are to be taken from\n",
    "    :param time_steps: time steps considered\n",
    "    :param topicid: id of topic that should be added to list\n",
    "    :param topn: number of top terms considered\n",
    "    :return: Prints out a summary of all topics, containing the defined number of top words in the time steps provided\n",
    "    '''\n",
    "    for topicid in topicids:\n",
    "        print('Topic %d' % topicid)\n",
    "        print(topic_to_dataframe(model=model, topicid=topicid, time_steps=time_steps, topn=topn))\n",
    "        print()\n",
    "\n",
    "topicids = [0,1,2,3,4,5,6,7,8,9,10,11,12,13,14,15,16,17,18,19,20,21,22,23,24,25,26,27,28,29,30]\n",
    "time_steps = [0,5,13,17]\n",
    "\n",
    "summary(model=dtm, time_steps=time_steps, topicids=topicids, topn=10)"
   ],
   "metadata": {
    "collapsed": false,
    "pycharm": {
     "name": "#%%\n"
    }
   }
  },
  {
   "cell_type": "markdown",
   "source": [
    "### Creating plots"
   ],
   "metadata": {
    "collapsed": false,
    "pycharm": {
     "name": "#%% md\n"
    }
   }
  },
  {
   "cell_type": "code",
   "execution_count": null,
   "outputs": [],
   "source": [
    "def get_topic_term_probability(model,time_steps,topicids):\n",
    "    '''\n",
    "\n",
    "    :param model: DTM Model with gamma Matrix\n",
    "    :param time_steps: range of the individual time steps indicating rows of plenary speeches belonging to each elecotralTerm\n",
    "    :param topicids: topics that should be considered\n",
    "    :return: dataframe with the topic probabilities over electoralTerms (time steps)\n",
    "    '''\n",
    "    gamma_total = {}\n",
    "    for index, time_step in enumerate(time_steps):\n",
    "        gamma_time_step = {}\n",
    "        for topicid in topicids:\n",
    "            gamma_value = 0\n",
    "            for doc_number in time_step:\n",
    "                gamma_value = gamma_value + model.gamma_[doc_number, topicid]\n",
    "            gamma_time_step[topicid] = gamma_value / len(time_step)\n",
    "        print(gamma_time_step)\n",
    "        gamma_total[index] = gamma_time_step\n",
    "    return gamma_total\n",
    "\n",
    "topicids = range(0, 31)\n",
    "time_steps = [range(0, 4444), range(4444, 8079), range(8079, 11335), range(11335, 16499), range(16499, 23888),\n",
    "          range(23888, 29859), range(29859, 37816), range(37816, 44674), range(44674, 48617), range(48617, 58073),\n",
    "          range(58073, 67408), range(67408, 77520), range(77520, 87945), range(87945, 98976), range(98976, 106746),\n",
    "          range(106746, 119131), range(119131, 135905), range(135905, 148132), range(148132, 164869)]\n",
    "\n",
    "gamma_total = get_topic_term_probability(model=dtm,time_steps=time_steps,topicids=topicids)"
   ],
   "metadata": {
    "collapsed": false,
    "pycharm": {
     "name": "#%%\n"
    }
   }
  },
  {
   "cell_type": "code",
   "execution_count": null,
   "outputs": [],
   "source": [
    "# create a dataframe with topic probabilities over time steps from the dictionary populated above\n",
    "topic_probabilities_over_time_steps = pd.DataFrame.from_dict(gamma_total, orient=\"index\")\n",
    "\n",
    "topic_probabilities_over_time_steps.index = ['1. Term', '2. Term', '3. Term', '4. Term', '5. Term', '6. Term', '7. Term', '8. Term', '9. Term',\n",
    "                  '10. Term', '11. Term', '12. Term', '13. Term', '14. Term', '15. Term', '16. Term', '17. Term',\n",
    "                  '18. Term', '19. Term']\n",
    "\n",
    "topic_probabilities_over_time_steps.columns = ['Topic 0','Topic 1', 'Topic 2', 'Topic 3', 'Topic 4', 'Topic 5', 'Topic 6', 'Topic 7', 'Topic 8',\n",
    "                    'Topic 9', 'Topic 10', 'Topic 11', 'Topic 12', 'Topic 13', 'Topic 14', 'Topic 15', 'Topic 16',\n",
    "                    'Topic 17', 'Topic 18', 'Topic 19', 'Topic 20', 'Topic 21', 'Topic 22', 'Topic 23', 'Topic 24',\n",
    "                    'Topic 25', 'Topic 26', 'Topic 27', 'Topic 28', 'Topic 29', 'Topic 30']"
   ],
   "metadata": {
    "collapsed": false,
    "pycharm": {
     "name": "#%%\n"
    }
   }
  },
  {
   "cell_type": "code",
   "execution_count": null,
   "outputs": [],
   "source": [
    "def plot_topic_probability_over_time(data, number_of_plots, result_path, title=None):\n",
    "    '''\n",
    "\n",
    "    :param data: dataframe with topic probabilities over time steps\n",
    "    :param number_of_plots:\n",
    "    :param result_path: path for saving the plot to disk (optional)\n",
    "    :param title: title of the plot (optional)\n",
    "    :return:  plot that displays the share of topics over all electoral Terms as line plot\n",
    "    '''\n",
    "    #define color palette\n",
    "    colors = sns.color_palette(cc.glasbey_light, number_of_plots)\n",
    "\n",
    "    ax = plt.gca()\n",
    "    #set general fontsize\n",
    "    plt.rcParams['font.size'] = '16'\n",
    "    #fontsize for ticks\n",
    "    for label in (ax.get_xticklabels() + ax.get_yticklabels()):\n",
    "        label.set_fontsize(14)\n",
    "\n",
    "    #data.plot(kind=\"line\", color=colors, linewidth=4.0, figsize=(20, 10), ax=ax)\n",
    "    data.plot(kind=\"line\", y=\"Topic 0\", color='tab:red',linewidth=7.0,figsize=(20, 10),ax=ax)\n",
    "    data.plot(kind=\"line\", y=\"Topic 16\", color='lightskyblue',linewidth=7.0,figsize=(20, 10),ax=ax)\n",
    "    data.plot(kind=\"line\", y=\"Topic 20\", color='peachpuff',linewidth=7.0,figsize=(20, 10),ax=ax)\n",
    "\n",
    "    ax.legend(loc='center left', bbox_to_anchor=(1.0, 0.5))\n",
    "    ax.set_ylabel('Topic Probability')\n",
    "    ax.set_xlabel('Electoral Terms')\n",
    "    ax.set_xticks(np.arange(0, 19, 1))\n",
    "\n",
    "    fig = ax.get_figure()\n",
    "    if result_path:\n",
    "        fig.savefig((os.path.join(result_path, 'topic_probability_over_time',title)))\n",
    "    fig.show()\n",
    "    return fig\n",
    "\n",
    "\n",
    "plot_topic_probability_over_time(data=topic_probabilities_over_time_steps, number_of_plots=31,result_path=result_path, title='DTM_topic_probability_over_time_topic_0_16_20.png')"
   ],
   "metadata": {
    "collapsed": false,
    "pycharm": {
     "name": "#%%\n"
    }
   }
  }
 ],
 "metadata": {
  "kernelspec": {
   "display_name": "Python 3",
   "language": "python",
   "name": "python3"
  },
  "language_info": {
   "codemirror_mode": {
    "name": "ipython",
    "version": 2
   },
   "file_extension": ".py",
   "mimetype": "text/x-python",
   "name": "python",
   "nbconvert_exporter": "python",
   "pygments_lexer": "ipython2",
   "version": "2.7.6"
  }
 },
 "nbformat": 4,
 "nbformat_minor": 0
}